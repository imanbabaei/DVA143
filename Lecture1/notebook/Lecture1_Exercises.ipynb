{
 "cells": [
  {
   "cell_type": "markdown",
   "id": "56c5c99a",
   "metadata": {},
   "source": [
    "# Course DVA143: Lecture 1\n",
    "**Author:** Mohd.Reza Babaei\n",
    "\n",
    "**Date:** 2025-09-04  \n",
    "\n",
    "## Exercise 1  \n",
    "Create a program where the user enters three numbers.  \n",
    "The program should use `if` statements to identify the input number with the largest numerical value.  \n",
    "Then, present the number to the user.  \n",
    "\n",
    "Example:  \n",
    "\n",
    "```\n",
    "Enter a number: 6  \n",
    "Enter another number: 7  \n",
    "Enter the final number: 2  \n",
    "---  \n",
    "The largest number entered is 7.  \n",
    "```\n",
    "\n",
    "**Hint:**  \n",
    "If `a >= b` and `c >= b`  \n",
    "then `a >= c`\n"
   ]
  },
  {
   "cell_type": "code",
   "id": "66dbe4cc",
   "metadata": {
    "ExecuteTime": {
     "end_time": "2025-09-06T15:47:22.157048Z",
     "start_time": "2025-09-06T15:47:13.779849Z"
    }
   },
   "source": [
    "# We repeat input function to get three inputs from user.\n",
    "n1 = input('Enter a number: ')\n",
    "n2 = input('Enter another number: ')\n",
    "n3 = input('Enter the final number: ')\n",
    "print('-----')\n",
    "\n",
    "# The output of input function is a string, use int (in this case) to convert n1, n2, and n3 values to integer.\n",
    "n1 = int(n1)\n",
    "n2 = int(n2)\n",
    "n3 = int(n3)\n",
    "\n",
    "# let's assume n1 is the largest number\n",
    "nf = n1\n",
    "\n",
    "# if n2 > nf (or n1 :D ) then update nf value with n2\n",
    "if n2 > nf:\n",
    "    nf = n2\n",
    "# if n3 > nf (n1 or maybe n2!) then update nf value with n3\n",
    "if n3 > nf:\n",
    "    nf = n3\n",
    "\n",
    "# print the value of largest number\n",
    "print(f\"The largest number entered is {nf}.\")\n",
    "\n",
    "# In the upcoming weeks you will learn to use list/tuple and max function :)"
   ],
   "outputs": [
    {
     "name": "stdout",
     "output_type": "stream",
     "text": [
      "-----\n",
      "The largest number entered is 7.\n"
     ]
    }
   ],
   "execution_count": 1
  },
  {
   "cell_type": "markdown",
   "id": "d8dcd3a3",
   "metadata": {},
   "source": [
    "## Exercise 2  \n",
    "For more info check *Lecture1.pdf* on Canvas → page 43.  \n",
    "\n",
    "Write a program that asks the user for their **name** and **age**.  \n",
    "Based on the age, the program should recommend how many hours of sleep the user needs.  \n"
   ]
  },
  {
   "cell_type": "code",
   "id": "2c2200df",
   "metadata": {
    "ExecuteTime": {
     "end_time": "2025-09-06T15:48:08.023451Z",
     "start_time": "2025-09-06T15:47:50.612046Z"
    }
   },
   "source": [
    "# name is string (text) so no need to convert.\n",
    "name = input('Please enter your name: ')\n",
    "\n",
    "# age can be integer or float (?!) :| -> convert user input right after calling input() function\n",
    "# In this example we assume age is an integer\n",
    "age = int(input('Please enter your age: '))\n",
    "print('-----')\n",
    "# it is safe to predefine sleep_time so we don't get any error if none of \"if\" statements worked. Don't ask how :D\n",
    "sleep_time = 'Not Found'\n",
    "\n",
    "if age == 1:\n",
    "    sleep_time = 14\n",
    "elif age == 2:\n",
    "    sleep_time = 13\n",
    "elif age == 3:\n",
    "    sleep_time = 12\n",
    "elif age == 4:\n",
    "    sleep_time = 11.5\n",
    "elif 5 <= age <= 6:  # in this case we can also use \"or\"\n",
    "    sleep_time = 11\n",
    "elif age == 7:\n",
    "    sleep_time = 10.5\n",
    "elif 8 <= age <= 10:\n",
    "    sleep_time = 10\n",
    "elif age == 11:\n",
    "    sleep_time = 9.5\n",
    "elif 12 <= age == 15:\n",
    "    sleep_time = 9\n",
    "elif age == 16:\n",
    "    sleep_time = 8.5\n",
    "elif age >= 17:\n",
    "    sleep_time = 8\n",
    "\n",
    "# WARNING!!! In this case we cannot use single quotation to print the string,\n",
    "# simply -> ' <- in Vårdguiden's close the string variable. You can try this by changing \" in print function bellow to '\n",
    "# pay attention to the colors!\n",
    "# f for format!\n",
    "print(f\"Hello {name}! According to Vårdguiden's ecommendations, \"\n",
    "      f\"individuals your age ({age} years) need to sleep at least {sleep_time} hours per night.\")"
   ],
   "outputs": [
    {
     "name": "stdout",
     "output_type": "stream",
     "text": [
      "-----\n",
      "Hello Jack Sparrow! According to Vårdguiden's ecommendations, individuals your age (9 years) need to sleep at least 10 hours per night.\n"
     ]
    }
   ],
   "execution_count": 2
  },
  {
   "cell_type": "markdown",
   "id": "5099b3e6",
   "metadata": {},
   "source": [
    "## Exercise 3  \n",
    "In this exercise, you will be introduced to generating random numbers with Python.\n",
    "You should create a script that simulates the dice roll and visualizes the result with\n",
    "very simple ASCIl art. Start with the following code:\n",
    "\n",
    "```\n",
    "import random\n",
    "\n",
    "dice = random. randint (1,6)\n",
    "```\n",
    "\n",
    "The function random.randint(1, 6) generates a random integer from 1 to 6 (like a six-sided dice).\n",
    "The randomized integer is then stored in the variable dice.\n",
    "Extend the script so that an informative text is printed about the value generated.\n",
    "Also, visualize the result of the dice roll with ASCII art similar to the examples below:\n",
    "```\n",
    "dice = 2 ->\n",
    "    print('---------')\n",
    "    print('| X     |')\n",
    "    print('|       |')\n",
    "    print('|     X |')\n",
    "    print('---------')\n",
    "\n",
    "dice = 5 ->\n",
    "    print('---------')\n",
    "    print('| X   X |')\n",
    "    print('|   X   |')\n",
    "    print('| X   X |')\n",
    "    print('---------')\n",
    "```"
   ]
  },
  {
   "cell_type": "code",
   "id": "4d952e61",
   "metadata": {
    "ExecuteTime": {
     "end_time": "2025-09-06T15:52:25.648035Z",
     "start_time": "2025-09-06T15:52:25.641873Z"
    }
   },
   "source": [
    "import random\n",
    "# Generate a random integer in range [1,6]\n",
    "dice = random.randint(1, 6)\n",
    "\n",
    "# let user know what is the dice number.\n",
    "print(f'You rolled a {dice}!')\n",
    "\n",
    "if dice == 1:\n",
    "    print('---------')\n",
    "    print('|       |')\n",
    "    print('|   X   |')\n",
    "    print('|       |')\n",
    "    print('---------')\n",
    "\n",
    "if dice == 2:\n",
    "    print('---------')\n",
    "    print('| X     |')\n",
    "    print('|       |')\n",
    "    print('|     X |')\n",
    "    print('---------')\n",
    "\n",
    "if dice == 3:\n",
    "    print('---------')\n",
    "    print('| X     |')\n",
    "    print('|   X   |')\n",
    "    print('|     X |')\n",
    "    print('---------')\n",
    "\n",
    "if dice == 4:\n",
    "    print('---------')\n",
    "    print('| X   X |')\n",
    "    print('|       |')\n",
    "    print('| X   X |')\n",
    "    print('---------')\n",
    "\n",
    "if dice == 5:\n",
    "    print('---------')\n",
    "    print('| X   X |')\n",
    "    print('|   X   |')\n",
    "    print('| X   X |')\n",
    "    print('---------')\n",
    "\n",
    "if dice == 6:\n",
    "    print('---------')\n",
    "    print('| X X X |')\n",
    "    print('|       |')\n",
    "    print('| X X X |')\n",
    "    print('---------')"
   ],
   "outputs": [
    {
     "name": "stdout",
     "output_type": "stream",
     "text": [
      "You rolled a 1!\n",
      "---------\n",
      "|       |\n",
      "|   X   |\n",
      "|       |\n",
      "---------\n"
     ]
    }
   ],
   "execution_count": 3
  },
  {
   "cell_type": "markdown",
   "id": "25563af3",
   "metadata": {},
   "source": [
    "## Exercise 4  \n",
    "\n",
    "Create a program that asks the user to enter a country.\n",
    "The program should then respond whether the country is part of the\n",
    "Nordic region or Great Britain. The comparison should not be case-sensitive.\n",
    "In other words, it should not matter whether the input is entered in uppercase\n",
    "or lowercase letters. If the country entered by the user belongs to neither\n",
    "the Nordic region nor Great Britain, an error message should be displayed.\n",
    "The Nordic countries include:\n",
    "\n",
    "- Denmark\n",
    "- Finland\n",
    "- Iceland\n",
    "- Norway\n",
    "- Sweden\n",
    "\n",
    "Great Britain includes the countries England, Northern Ireland, Scotland, and Wales."
   ]
  },
  {
   "cell_type": "code",
   "id": "841654ae",
   "metadata": {
    "ExecuteTime": {
     "end_time": "2025-09-06T15:53:33.994404Z",
     "start_time": "2025-09-06T15:53:29.600727Z"
    }
   },
   "source": [
    "# Get the user input.\n",
    "user_input = input('Please enter a name of country: ')\n",
    "\n",
    "# re-format the text so it will be independent of the user input\n",
    "standard_name = user_input.capitalize()\n",
    "\n",
    "# Approach 1: search in list\n",
    "# if standard_name in ['Denmark', 'Sweden', 'Iceland', 'Norway', 'Finland']:\n",
    "#     print(f'{standard_name} is in Nordic Region!')\n",
    "\n",
    "# Approach 2: if statement\n",
    "# with \"or\"/\"and\" between each condition we can combine multiple if statements\n",
    "# since the country cannot be in two regions, we use elif (else if) so we might enter each statement only and only once!\n",
    "if standard_name == 'Sweden' or standard_name == 'Iceland' or standard_name == 'Norway' or standard_name == 'Finland' or standard_name == 'Denmark':\n",
    "    place = 'Nordic region'\n",
    "    print(f'{user_input} is in Nordic Region!')\n",
    "elif standard_name == 'England' or standard_name == 'Wales' or standard_name == 'Northern Ireland' or standard_name == 'Scotland':\n",
    "    place = 'Great Britain'\n",
    "    print(f'{user_input} is in Great Britain!')\n",
    "else:\n",
    "    # Show the user her/his input :D not the standardized (?!) one.\n",
    "    print(f'Error 404: {user_input} belongs to neither Nordic region nor Great Britain!')"
   ],
   "outputs": [
    {
     "name": "stdout",
     "output_type": "stream",
     "text": [
      "norway is in Nordic Region!\n"
     ]
    }
   ],
   "execution_count": 5
  }
 ],
 "metadata": {
  "kernelspec": {
   "name": "python3",
   "language": "python",
   "display_name": "Python 3 (ipykernel)"
  }
 },
 "nbformat": 4,
 "nbformat_minor": 5
}
